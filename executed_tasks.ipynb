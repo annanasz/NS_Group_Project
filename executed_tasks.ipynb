{
 "cells": [
  {
   "cell_type": "code",
   "execution_count": 1,
   "metadata": {},
   "outputs": [
    {
     "name": "stdout",
     "output_type": "stream",
     "text": [
      "                     raw_ingr\n",
      "0             fuyu persimmons\n",
      "1  whole crisp corn tortillas\n",
      "2              cilantro paste\n",
      "3            gluten-free oats\n",
      "4      white chocolate wafers\n"
     ]
    }
   ],
   "source": [
    "import pandas as pd\n",
    "\n",
    "# Read the file as a text file and treat each line as a raw ingredient\n",
    "with open(\"unique_ingredients.txt\", \"r\") as file:\n",
    "    lines = file.readlines()\n",
    "\n",
    "# Create a DataFrame with a single column 'raw_ingr'\n",
    "df_start = pd.DataFrame(lines, columns=[\"raw_ingr\"])\n",
    "\n",
    "# Strip any leading/trailing whitespace from the lines\n",
    "df_start[\"raw_ingr\"] = df_start[\"raw_ingr\"].str.strip()\n",
    "\n",
    "# Display the first few rows\n",
    "print(df_start.head())"
   ]
  },
  {
   "cell_type": "code",
   "execution_count": null,
   "metadata": {},
   "outputs": [],
   "source": [
    "import pickle\n",
    "import pandas as pd\n",
    "\n",
    "file_path = \"/Users/leventedobak/Downloads/archive/ingr_map.pkl\"\n",
    "\n",
    "with open(file_path, \"rb\") as file:\n",
    "    try:\n",
    "        content = pd.read_pickle(file)\n",
    "    except ModuleNotFoundError as e:\n",
    "        print(f\"Module not found: {e}\")\n",
    "        file.seek(0)\n",
    "        raw_data = file.read()\n",
    "        print(\"First 100 bytes of raw data for debugging:\")\n",
    "        print(raw_data[:100])  # View the raw content for clues\n",
    "\n",
    "print(content[content[\"raw_ingr\"]==\"hershey's semi-sweet baking chocolate\"])\n"
   ]
  },
  {
   "cell_type": "code",
   "execution_count": null,
   "metadata": {},
   "outputs": [],
   "source": [
    "import pandas as pd\n",
    "\n",
    "# Define a function to generate formatted examples for each 'replaced' entity\n",
    "def generate_examples(df, column='replaced', num_examples=2):\n",
    "    examples = []\n",
    "    grouped = df.groupby(column)\n",
    "    \n",
    "    for name, group in grouped:\n",
    "        # Take at least `num_examples` from each group\n",
    "        sampled = group.sample(n=min(num_examples, len(group)), random_state=42)  # Limit to available rows if fewer\n",
    "        for _, row in sampled.iterrows():\n",
    "            examples.append(f\"- Input: {row['raw_ingr']}\\n  Answer: Entity: {row['replaced']}\")\n",
    "    \n",
    "    return examples\n",
    "\n",
    "# Use the function to generate examples\n",
    "examples = generate_examples(content, column='replaced', num_examples=2)\n",
    "\n",
    "# Print the examples\n",
    "for example in examples:\n",
    "    print(example)"
   ]
  },
  {
   "cell_type": "code",
   "execution_count": 2,
   "metadata": {},
   "outputs": [
    {
     "name": "stderr",
     "output_type": "stream",
     "text": [
      "/Users/leventedobak/Library/Python/3.9/lib/python/site-packages/urllib3/__init__.py:35: NotOpenSSLWarning: urllib3 v2 only supports OpenSSL 1.1.1+, currently the 'ssl' module is compiled with 'LibreSSL 2.8.3'. See: https://github.com/urllib3/urllib3/issues/3020\n",
      "  warnings.warn(\n"
     ]
    }
   ],
   "source": [
    "import requests\n",
    "import json\n",
    "from json import JSONDecodeError\n",
    "\n",
    "LOCAL_CHAT_URL = \"http://localhost:11434/api/chat\"\n",
    "\n",
    "def extract_ingredient(text):\n",
    "    prompt = f\"\"\"Task:\n",
    "    Identify and extract the key ingredient(s) from the following input text. Focus on the main ingredient, typically the shortest or a compound word and most general noun. Respond only with the extracted entity and do not use plural forms in the following format `Entity: ingredient`.\n",
    "\n",
    "    Examples:\n",
    "    - Input: medium heads bibb or red leaf lettuce  \n",
    "      Answer: Entity: lettuce\n",
    "    - Input: aunt jane's krazy mixed up salt  \n",
    "      Answer: Entity: salt\n",
    "    - Input: light cream cheese with chives and onions  \n",
    "      Answer: Entity: cream cheese\n",
    "    - Input: fat-free chili  \n",
    "      Answer: Entity: chili\n",
    "    - Input: italian-style tomato sauce\n",
    "      Answer: Entity: tomato sauce\n",
    "    - Input: tomato sauce with basic and garlic\n",
    "      Answer: Entity: tomato sauce\n",
    "    - Input: tomato sauce with roasted red pepper\n",
    "      Answer: Entity: tomato sauce\n",
    "    - Input: tomato sauce with italian seasoning\n",
    "      Answer: Entity: tomato sauce\n",
    "    - Input: salt-free tomato sauce\n",
    "      Answer: Entity: tomato sauce\n",
    "    - Input: duncan hines moist deluxe yellow cake mix\n",
    "      Answer: Entity: cake mix\n",
    "    - Input: duncan hines moist deluxe spice cake mix\n",
    "      Answer: Entity: cake mix\n",
    "    - Input: zwieback toast\n",
    "      Answer: Entity: toast\n",
    "    - Input: zucchini with italian-style tomato sauce\n",
    "      Answer: Entity: zucchini\n",
    "    - Input: 15 bean mix\n",
    "      Answer: Entity: bean\n",
    "    - Input: 100 proof vodka\n",
    "      Answer: Entity: vodka\n",
    "    - Input: 10-minute success rice\n",
    "      Answer: Entity: rice\n",
    "    - Input: kikkoman's teriyaki sauce\n",
    "      Answer: Entity: teriyaki sauce\n",
    "    - Input: breakstone's sour cream\n",
    "      Answer: Entity: sour cream\n",
    "    - Input: hershey's hugs chocolates\n",
    "      Answer: Entity: chocolate\n",
    "    - Input: hershey's semi-sweet chocolate chips\n",
    "      Answer: Entity: chocolate chip\n",
    "    - Input: hershey's semi-sweet baking chocolate\n",
    "      Answer: Entity: baking chocolate\n",
    "    - Input: prego spaghetti sauce\n",
    "      Answer: Entity: spaghetti sauce\n",
    "    - Input: pasta sauce\n",
    "      Answer: Entity: pasta sauce\n",
    "    - Input: pillsbury pecan swirl quick bread and coffee\n",
    "      Answer: Entity: bread\n",
    "    - Input: pillsbury cinnamon swirl quick bread and coffe\n",
    "      Answer: Entity: bread\n",
    "    - Input: mozzarella cheese with sun-dried tomatoes and\n",
    "      Answer: Entity: mozzarella\n",
    "    - Input: kraft shredded mozzarella cheese with a touch\n",
    "      Answer: Entity: mozzarella\n",
    "    - Input: campbell's condensed tomato soup\n",
    "      Answer: Entity: tomato soup\n",
    "    - Input: stewed tomatoes with herbs\n",
    "      Answer: Entity: tomato\n",
    "    - Input: cajun-style stewed tomatoes\n",
    "      Answer: Entity: tomato\n",
    "    - Input: healthy request condensed tomato soup\n",
    "      Answer: Entity: tomato soup\n",
    "    - Input: campbell's condensed tomato soup\n",
    "      Answer: Entity: tomato soup\n",
    "    - Input: condensed tomato soup with roasted garlic\n",
    "      Answer: Entity: tomato soup\n",
    "\n",
    "    Input: {text}\n",
    "\n",
    "    Answer:\"\"\"\n",
    "\n",
    "    data = {\n",
    "        \"model\": \"llama3\",\n",
    "        \"messages\": [\n",
    "            {\n",
    "                \"role\": \"user\",\n",
    "                \"content\": prompt\n",
    "            }\n",
    "        ],\n",
    "    }\n",
    "    headers = {\n",
    "        \"Content-Type\": \"application/json\"\n",
    "    }\n",
    "\n",
    "    try:\n",
    "        # Send POST request\n",
    "        response = requests.post(LOCAL_CHAT_URL, headers=headers, json=data)\n",
    "\n",
    "        # Check for HTTP errors\n",
    "        if response.status_code != 200:\n",
    "            print(f\"Error! Status Code: {response.status_code}\")\n",
    "            print(f\"Response Content: {response.text}\")\n",
    "            return None\n",
    "\n",
    "        # Parse NDJSON response\n",
    "        raw_lines = response.text.splitlines()  # Split by newline\n",
    "        parsed_content = [json.loads(line) for line in raw_lines]  # Parse each line\n",
    "\n",
    "        # Extract the relevant content from parsed messages\n",
    "        extracted_content = \"\".join(\n",
    "            item[\"message\"][\"content\"] for item in parsed_content if \"message\" in item\n",
    "        ).strip()\n",
    "\n",
    "        return extracted_content.split(\"Entity:\")[-1].strip()\n",
    "\n",
    "    except JSONDecodeError as e:\n",
    "        print(f\"JSONDecodeError: {e}\")\n",
    "        print(f\"Response Content: {response.text}\")\n",
    "        return None\n",
    "\n",
    "    except requests.RequestException as e:\n",
    "        print(f\"RequestException: {e}\")\n",
    "        return None\n"
   ]
  },
  {
   "cell_type": "code",
   "execution_count": 6,
   "metadata": {},
   "outputs": [
    {
     "name": "stderr",
     "output_type": "stream",
     "text": [
      "100%|██████████| 14942/14942 [3:40:01<00:00,  1.13it/s]  \n"
     ]
    }
   ],
   "source": [
    "from tqdm import tqdm\n",
    "\n",
    "tqdm.pandas()\n",
    "\n",
    "df = pd.DataFrame({\n",
    "    'raw_ingr': df_start['raw_ingr'],  # Original raw ingredient\n",
    "    'extracted_ingredient': df_start['raw_ingr'].progress_apply(extract_ingredient)  # Extracted ingredient\n",
    "})"
   ]
  },
  {
   "cell_type": "code",
   "execution_count": 7,
   "metadata": {},
   "outputs": [
    {
     "name": "stdout",
     "output_type": "stream",
     "text": [
      "                     raw_ingr extracted_ingredient\n",
      "0             fuyu persimmons            persimmon\n",
      "1  whole crisp corn tortillas                 corn\n",
      "2              cilantro paste             cilantro\n",
      "3            gluten-free oats                 oats\n",
      "4      white chocolate wafers      white chocolate\n"
     ]
    }
   ],
   "source": [
    "# Display the new DataFrame\n",
    "print(df.head())"
   ]
  },
  {
   "cell_type": "code",
   "execution_count": 8,
   "metadata": {},
   "outputs": [],
   "source": [
    "df.to_excel('ingredients.xlsx', index=False)"
   ]
  },
  {
   "cell_type": "code",
   "execution_count": null,
   "metadata": {},
   "outputs": [],
   "source": []
  }
 ],
 "metadata": {
  "kernelspec": {
   "display_name": "Python 3",
   "language": "python",
   "name": "python3"
  },
  "language_info": {
   "codemirror_mode": {
    "name": "ipython",
    "version": 3
   },
   "file_extension": ".py",
   "mimetype": "text/x-python",
   "name": "python",
   "nbconvert_exporter": "python",
   "pygments_lexer": "ipython3",
   "version": "3.9.6"
  }
 },
 "nbformat": 4,
 "nbformat_minor": 2
}
